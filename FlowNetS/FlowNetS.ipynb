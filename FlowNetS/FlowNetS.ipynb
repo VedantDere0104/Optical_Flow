{
  "nbformat": 4,
  "nbformat_minor": 0,
  "metadata": {
    "colab": {
      "name": "FlowNetS.ipynb",
      "provenance": [],
      "collapsed_sections": []
    },
    "kernelspec": {
      "name": "python3",
      "display_name": "Python 3"
    },
    "language_info": {
      "name": "python"
    }
  },
  "cells": [
    {
      "cell_type": "code",
      "metadata": {
        "id": "bpF89vwBmTYc"
      },
      "source": [
        "####"
      ],
      "execution_count": 1,
      "outputs": []
    },
    {
      "cell_type": "code",
      "metadata": {
        "id": "ajQXvanNmeHX"
      },
      "source": [
        "import torch\n",
        "from torch import nn"
      ],
      "execution_count": 2,
      "outputs": []
    },
    {
      "cell_type": "code",
      "metadata": {
        "id": "99BltmnKh0mW"
      },
      "source": [
        "device = torch.device('cuda' if torch.cuda.is_available() else 'cpu')"
      ],
      "execution_count": 10,
      "outputs": []
    },
    {
      "cell_type": "code",
      "metadata": {
        "id": "HLrpyrGUmfaD"
      },
      "source": [
        "class Conv(nn.Module):\n",
        "    def __init__(self , \n",
        "                 in_channels , \n",
        "                 out_channels , \n",
        "                 kernel_size = (3 , 3) , \n",
        "                 stride = (1 , 1) , \n",
        "                 padding = 1 , \n",
        "                 use_norm = True , \n",
        "                 use_activation = True):\n",
        "        super(Conv , self).__init__()\n",
        "\n",
        "        self.use_norm = use_norm\n",
        "        self.use_activation = use_activation\n",
        "\n",
        "        self.conv1 = nn.Conv2d(in_channels , \n",
        "                               out_channels , \n",
        "                               kernel_size , \n",
        "                               stride , \n",
        "                               padding)\n",
        "        if self.use_activation:\n",
        "            self.activation = nn.LeakyReLU(0.2)\n",
        "        if self.use_norm:\n",
        "            self.norm = nn.InstanceNorm2d(out_channels)\n",
        "\n",
        "    def forward(self , x):\n",
        "        x = self.conv1(x)\n",
        "        if self.use_activation:\n",
        "            x = self.activation(x)\n",
        "        if self.use_norm:\n",
        "            x = self.norm(x)\n",
        "        return x"
      ],
      "execution_count": 3,
      "outputs": []
    },
    {
      "cell_type": "code",
      "metadata": {
        "id": "jBWKccYMnJbX"
      },
      "source": [
        "class ConvT(nn.Module):\n",
        "    def __init__(self , \n",
        "                 in_channels , \n",
        "                 out_channels , \n",
        "                 kernel_size = (2 , 2) , \n",
        "                 stride = (2 , 2) , \n",
        "                 padding = 0 , \n",
        "                 use_norm = True , \n",
        "                 use_activation = True):\n",
        "        super(ConvT , self).__init__()\n",
        "\n",
        "        self.use_norm = use_norm\n",
        "        self.use_activation = use_activation\n",
        "        self.convT = nn.ConvTranspose2d(in_channels , \n",
        "                                        out_channels , \n",
        "                                        kernel_size , \n",
        "                                        stride , \n",
        "                                        padding)\n",
        "        \n",
        "        if self.use_norm:\n",
        "            self.norm = nn.InstanceNorm2d(out_channels)\n",
        "        if self.use_activation:\n",
        "            self.activation = nn.LeakyReLU(0.2)\n",
        "\n",
        "    def forward(self , x):\n",
        "        x = self.convT(x)\n",
        "        if self.use_activation:\n",
        "            x = self.activation(x)\n",
        "        if self.use_norm:\n",
        "            x = self.norm(x)\n",
        "        return x"
      ],
      "execution_count": 5,
      "outputs": []
    },
    {
      "cell_type": "code",
      "metadata": {
        "id": "CdjZH90Vs7LO"
      },
      "source": [
        "config = [\n",
        "          # [out_channels , kernel_size , stride , padding]\n",
        "          [64 , (2 , 2) , (2 , 2) , 0] , \n",
        "          [128 , (2 , 2) , (2 , 2) , 0] , \n",
        "          'S' , \n",
        "          [256 , (2 , 2) , (2 , 2) , 0] , \n",
        "          [256 , (3 , 3) , (1 , 1) , 1] , \n",
        "          'S' , \n",
        "          [512 , (2 , 2) , (2 , 2) , 0] , \n",
        "          [512 , (3 , 3) , (1 , 1) , 1] , \n",
        "          'S' , \n",
        "          [512 , (2 , 2) , (2 , 2) , 0] , \n",
        "          [512 , (3 , 3) , (1 , 1) , 1] , \n",
        "          'S' , \n",
        "          [1024 , (2 , 2) , (2 , 2) , 0] , \n",
        "          512 , \n",
        "          512 , \n",
        "          256 , \n",
        "          128\n",
        "]"
      ],
      "execution_count": 60,
      "outputs": []
    },
    {
      "cell_type": "code",
      "metadata": {
        "id": "Phvx7c04gPLv"
      },
      "source": [
        "class FlowNetS(nn.Module):\n",
        "    def __init__(self , \n",
        "                 in_channels = 6 , \n",
        "                 config = config):\n",
        "        super(FlowNetS , self).__init__()\n",
        "\n",
        "\n",
        "        self.layers = nn.ModuleList()\n",
        "        last_channels = 0\n",
        "        for i , layer in enumerate(config):\n",
        "            if isinstance(layer , list):\n",
        "                out_channels , kernel_size , stride , padding = layer\n",
        "                self.layers.append(Conv(\n",
        "                    in_channels , out_channels , kernel_size, stride , padding\n",
        "                ))\n",
        "                in_channels = out_channels\n",
        "            elif isinstance(layer , str):\n",
        "                self.layers.append(nn.Identity())\n",
        "            \n",
        "            elif isinstance(layer , int):\n",
        "                if i == 13:\n",
        "                    out_channels = layer\n",
        "                    last_channels = out_channels\n",
        "                else:\n",
        "                    in_channels += last_channels\n",
        "                    out_channels = layer\n",
        "                    last_channels = out_channels\n",
        "                self.layers.append(ConvT(in_channels , out_channels))\n",
        "                in_channels = out_channels\n",
        "\n",
        "    def forward(self , x , y):\n",
        "        x = torch.cat([x , y] , dim=1)\n",
        "        for_concat = []\n",
        "        for layer in self.layers:\n",
        "            x = layer(x)\n",
        "            if isinstance(layer , nn.Identity):\n",
        "                for_concat.append(x)\n",
        "            elif isinstance(layer , ConvT):\n",
        "                x_prev = for_concat.pop()\n",
        "                x = torch.cat([x , x_prev] , dim=1)\n",
        "        return x"
      ],
      "execution_count": 79,
      "outputs": []
    },
    {
      "cell_type": "code",
      "metadata": {
        "id": "EAF-en0NhmVm"
      },
      "source": [
        "x = torch.randn(2 , 3 , 512 , 512).to(device)\n",
        "y = torch.randn(2 , 3 , 512 , 512).to(device)\n",
        "flow_net_s = FlowNetS().to(device)\n",
        "x = flow_net_s(x , y)\n",
        "print(x.shape)"
      ],
      "execution_count": null,
      "outputs": []
    },
    {
      "cell_type": "code",
      "metadata": {
        "id": "P_2sMCYuh74s"
      },
      "source": [
        ""
      ],
      "execution_count": null,
      "outputs": []
    }
  ]
}