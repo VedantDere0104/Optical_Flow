{
  "nbformat": 4,
  "nbformat_minor": 0,
  "metadata": {
    "colab": {
      "name": "FlowNetCorr.ipynb",
      "provenance": [],
      "collapsed_sections": []
    },
    "kernelspec": {
      "name": "python3",
      "display_name": "Python 3"
    },
    "language_info": {
      "name": "python"
    }
  },
  "cells": [
    {
      "cell_type": "code",
      "metadata": {
        "id": "F6exDgTBvnsk"
      },
      "source": [
        "####"
      ],
      "execution_count": 1,
      "outputs": []
    },
    {
      "cell_type": "code",
      "metadata": {
        "id": "7HzTM-OUvrt3"
      },
      "source": [
        "import torch\n",
        "from torch import nn"
      ],
      "execution_count": 2,
      "outputs": []
    },
    {
      "cell_type": "code",
      "metadata": {
        "id": "Kjg-LL4mwtkf"
      },
      "source": [
        "device = torch.device('cuda' if torch.cuda.is_available() else 'cpu')"
      ],
      "execution_count": 4,
      "outputs": []
    },
    {
      "cell_type": "code",
      "metadata": {
        "id": "SeQgoFgrvt-V"
      },
      "source": [
        "\n",
        "class Conv(nn.Module):\n",
        "    def __init__(self , \n",
        "                 in_channels , \n",
        "                 out_channels , \n",
        "                 kernel_size = (3 , 3) , \n",
        "                 stride = (1 , 1) , \n",
        "                 padding = 1 , \n",
        "                 use_norm = True , \n",
        "                 use_activation = True):\n",
        "        super(Conv , self).__init__()\n",
        "\n",
        "        self.use_norm = use_norm\n",
        "        self.use_activation = use_activation\n",
        "\n",
        "        self.conv1 = nn.Conv2d(in_channels , \n",
        "                               out_channels , \n",
        "                               kernel_size , \n",
        "                               stride , \n",
        "                               padding)\n",
        "        if self.use_activation:\n",
        "            self.activation = nn.LeakyReLU(0.2)\n",
        "        if self.use_norm:\n",
        "            self.norm = nn.InstanceNorm2d(out_channels)\n",
        "\n",
        "    def forward(self , x):\n",
        "        x = self.conv1(x)\n",
        "        if self.use_activation:\n",
        "            x = self.activation(x)\n",
        "        if self.use_norm:\n",
        "            x = self.norm(x)\n",
        "        return x"
      ],
      "execution_count": 5,
      "outputs": []
    },
    {
      "cell_type": "code",
      "metadata": {
        "id": "xVaGlpzkwnVQ"
      },
      "source": [
        "class ConvT(nn.Module):\n",
        "    def __init__(self , \n",
        "                 in_channels , \n",
        "                 out_channels , \n",
        "                 kernel_size = (2 , 2) , \n",
        "                 stride = (2 , 2) , \n",
        "                 padding = 0 , \n",
        "                 use_norm = True , \n",
        "                 use_activation = True):\n",
        "        super(ConvT , self).__init__()\n",
        "\n",
        "        self.use_norm = use_norm\n",
        "        self.use_activation = use_activation\n",
        "        self.convT = nn.ConvTranspose2d(in_channels , \n",
        "                                        out_channels , \n",
        "                                        kernel_size , \n",
        "                                        stride , \n",
        "                                        padding)\n",
        "        \n",
        "        if self.use_norm:\n",
        "            self.norm = nn.InstanceNorm2d(out_channels)\n",
        "        if self.use_activation:\n",
        "            self.activation = nn.LeakyReLU(0.2)\n",
        "\n",
        "    def forward(self , x):\n",
        "        x = self.convT(x)\n",
        "        if self.use_activation:\n",
        "            x = self.activation(x)\n",
        "        if self.use_norm:\n",
        "            x = self.norm(x)\n",
        "        return x"
      ],
      "execution_count": 6,
      "outputs": []
    },
    {
      "cell_type": "code",
      "metadata": {
        "id": "kD1r9qOSwxuf"
      },
      "source": [
        "config_backbone = [\n",
        "                   # [out_channels , kernel_size, stride , padding]\n",
        "                   [64 , (2 , 2) , (2 , 2) , 0] , \n",
        "                   [128 , (2 , 2) , (2 , 2) , 0] , \n",
        "                   [256 , (2 , 2) , (2 , 2) , 0]\n",
        "]"
      ],
      "execution_count": 7,
      "outputs": []
    },
    {
      "cell_type": "code",
      "metadata": {
        "id": "Cfcu0XKuxDt1"
      },
      "source": [
        "class Backbone(nn.Module):\n",
        "    def __init__(self , \n",
        "                 in_channels = 3 , \n",
        "                 config = config_backbone):\n",
        "        super(Backbone , self).__init__()\n",
        "\n",
        "        self.layers = nn.ModuleList()\n",
        "\n",
        "        for layer in config:\n",
        "            out_channels , kernel_size , stride , padding = layer\n",
        "\n",
        "            self.layers.append(Conv(\n",
        "                in_channels , \n",
        "                out_channels , \n",
        "                kernel_size , \n",
        "                stride, \n",
        "                padding\n",
        "            ))\n",
        "            in_channels = out_channels\n",
        "\n",
        "    def forward(self , x):\n",
        "        for layer in self.layers:\n",
        "            x = layer(x)\n",
        "        return x"
      ],
      "execution_count": 8,
      "outputs": []
    },
    {
      "cell_type": "code",
      "metadata": {
        "id": "17yGHoU5z8Kf"
      },
      "source": [
        "x = torch.randn(2 , 3 , 512 , 512).to(device)\n",
        "backbone = Backbone().to(device)\n",
        "z = backbone(x)\n",
        "z.shape"
      ],
      "execution_count": null,
      "outputs": []
    },
    {
      "cell_type": "code",
      "metadata": {
        "id": "dnyFt_s30oxP"
      },
      "source": [
        "config = [\n",
        "          # [out_channels , kernel_size , stride , padding]\n",
        "          [256 , (2 , 2) , (2 , 2) , 0] ,\n",
        "          'S' ,  \n",
        "          [512 , (2 , 2) , (2 , 2) , 0] , \n",
        "          [512 , (3 , 3) , (1 , 1) , 1] , \n",
        "          'S' , \n",
        "          [512 , (2 , 2) , (2 , 2) , 0] , \n",
        "          [512 , (3 , 3) , (1 , 1) , 1] , \n",
        "          'S' , \n",
        "          [1024 , (2 , 2) , (2 , 2) , 0]  , \n",
        "          512 , \n",
        "          512 , \n",
        "          256\n",
        "]"
      ],
      "execution_count": 25,
      "outputs": []
    },
    {
      "cell_type": "code",
      "metadata": {
        "id": "pzIko3Ia0CV1"
      },
      "source": [
        "class FlowNet(nn.Module):\n",
        "    def __init__(self , \n",
        "                 in_channels_model = 256 , \n",
        "                 config = config):\n",
        "        super(FlowNet , self).__init__()\n",
        "\n",
        "        self.backbone = Backbone()\n",
        "\n",
        "        self.layers = nn.ModuleList()\n",
        "        in_channels = in_channels_model * 2\n",
        "        last_channels = 0\n",
        "        for i , layer in enumerate(config):\n",
        "            if isinstance(layer , list):\n",
        "                out_channels , kernel_size , stride , padding = layer\n",
        "                self.layers.append(Conv(in_channels , out_channels , kernel_size , stride , padding))\n",
        "                in_channels = out_channels\n",
        "            elif isinstance(layer , str):\n",
        "                self.layers.append(nn.Identity())\n",
        "\n",
        "            elif isinstance(layer , int):\n",
        "                if i == 9:\n",
        "                    out_channels = layer\n",
        "                    last_channels = out_channels\n",
        "                else:\n",
        "                    in_channels += last_channels\n",
        "                    out_channels = layer\n",
        "                self.layers.append(ConvT(in_channels , out_channels))\n",
        "                in_channels = out_channels\n",
        "    \n",
        "\n",
        "    def forward(self , x , y):\n",
        "        for_concat = []\n",
        "        x = self.backbone(x)\n",
        "        y = self.backbone(y)\n",
        "        x = torch.cat([x , y] , dim=1)\n",
        "        \n",
        "        for layer in self.layers:\n",
        "            x = layer(x)\n",
        "            if isinstance(layer , nn.Identity):\n",
        "                for_concat.append(x)\n",
        "            elif isinstance(layer , ConvT):\n",
        "                x_prev = for_concat.pop()\n",
        "                x = torch.cat([x , x_prev] , dim=1)\n",
        "        print('x' , x.shape)"
      ],
      "execution_count": 26,
      "outputs": []
    },
    {
      "cell_type": "code",
      "metadata": {
        "id": "Jl2kQzc90eav"
      },
      "source": [
        "x = torch.randn(2 , 3 , 512 , 512)\n",
        "y = torch.randn(2 , 3 , 512 , 512)\n",
        "flownet = FlowNet().to(device)\n",
        "z = flownet(x , y)"
      ],
      "execution_count": null,
      "outputs": []
    },
    {
      "cell_type": "code",
      "metadata": {
        "id": "Q74kkLLQ0lwN"
      },
      "source": [
        ""
      ],
      "execution_count": null,
      "outputs": []
    }
  ]
}